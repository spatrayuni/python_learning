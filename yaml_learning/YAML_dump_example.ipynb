{
 "cells": [
  {
   "cell_type": "code",
   "execution_count": 1,
   "metadata": {},
   "outputs": [],
   "source": [
    "import yaml"
   ]
  },
  {
   "cell_type": "code",
   "execution_count": 16,
   "metadata": {},
   "outputs": [],
   "source": [
    "output = {'https://ipgeocode.api.intuit.com/ipgeocode/rest/diag/ping/deep': {'version': '1.1.7.135', 'status': 'Alive and well'}, 'https://ipgeocode.api.intuit.com/health/full': 'Health Check OK'}"
   ]
  },
  {
   "cell_type": "code",
   "execution_count": 18,
   "metadata": {},
   "outputs": [
    {
     "data": {
      "text/plain": [
       "dict"
      ]
     },
     "execution_count": 18,
     "metadata": {},
     "output_type": "execute_result"
    }
   ],
   "source": [
    "type(output)"
   ]
  },
  {
   "cell_type": "code",
   "execution_count": 21,
   "metadata": {},
   "outputs": [
    {
     "data": {
      "text/plain": [
       "'https://ipgeocode.api.intuit.com/health/full: Health Check OK\\nhttps://ipgeocode.api.intuit.com/ipgeocode/rest/diag/ping/deep: {status: Alive and\\n    well, version: 1.1.7.135}\\n'"
      ]
     },
     "execution_count": 21,
     "metadata": {},
     "output_type": "execute_result"
    }
   ],
   "source": [
    "yaml.dump(output)"
   ]
  },
  {
   "cell_type": "code",
   "execution_count": 26,
   "metadata": {},
   "outputs": [],
   "source": [
    "with open(\"yaml_dump1.yaml\",\"w\") as write_file:\n",
    "    yaml.dump(output, write_file)"
   ]
  },
  {
   "cell_type": "code",
   "execution_count": 27,
   "metadata": {},
   "outputs": [
    {
     "name": "stdout",
     "output_type": "stream",
     "text": [
      "https://ipgeocode.api.intuit.com/health/full: Health Check OK\r\n",
      "https://ipgeocode.api.intuit.com/ipgeocode/rest/diag/ping/deep: {status: Alive and\r\n",
      "    well, version: 1.1.7.135}\r\n"
     ]
    }
   ],
   "source": [
    "cat yaml_dump1.yaml"
   ]
  },
  {
   "cell_type": "code",
   "execution_count": null,
   "metadata": {},
   "outputs": [],
   "source": []
  }
 ],
 "metadata": {
  "kernelspec": {
   "display_name": "Python 3",
   "language": "python",
   "name": "python3"
  },
  "language_info": {
   "codemirror_mode": {
    "name": "ipython",
    "version": 3
   },
   "file_extension": ".py",
   "mimetype": "text/x-python",
   "name": "python",
   "nbconvert_exporter": "python",
   "pygments_lexer": "ipython3",
   "version": "3.6.5"
  }
 },
 "nbformat": 4,
 "nbformat_minor": 2
}
