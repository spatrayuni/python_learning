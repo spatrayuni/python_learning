{
 "cells": [
  {
   "cell_type": "code",
   "execution_count": 37,
   "metadata": {},
   "outputs": [],
   "source": [
    "import yaml\n",
    "import json\n",
    "import requests"
   ]
  },
  {
   "cell_type": "markdown",
   "metadata": {},
   "source": [
    "### load() is used for loading a yaml object/ yaml file into python object as below"
   ]
  },
  {
   "cell_type": "code",
   "execution_count": 2,
   "metadata": {},
   "outputs": [],
   "source": [
    "yaml_dict = yaml.load(open(\"health_queries.yaml\"))"
   ]
  },
  {
   "cell_type": "code",
   "execution_count": 3,
   "metadata": {},
   "outputs": [
    {
     "data": {
      "text/plain": [
       "['https://ipgeocode.api.intuit.com/ipgeocode/rest/diag/ping/deep',\n",
       " 'https://ipgeocode.api.intuit.com/health/full']"
      ]
     },
     "execution_count": 3,
     "metadata": {},
     "output_type": "execute_result"
    }
   ],
   "source": [
    "yaml_dict['IPGeocode']['Diag']"
   ]
  },
  {
   "cell_type": "code",
   "execution_count": 71,
   "metadata": {},
   "outputs": [],
   "source": [
    "def check(url):\n",
    "    output = {}\n",
    "    response = requests.get(url)\n",
    "    try:\n",
    "        return json.loads(response.text)\n",
    "    except:\n",
    "        return response.text"
   ]
  },
  {
   "cell_type": "code",
   "execution_count": 72,
   "metadata": {},
   "outputs": [
    {
     "name": "stdout",
     "output_type": "stream",
     "text": [
      "{'https://ipgeocode.api.intuit.com/ipgeocode/rest/diag/ping/deep': {'version': '1.1.7.135', 'status': 'Alive and well'}, 'https://ipgeocode.api.intuit.com/health/full': 'Health Check OK'}\n"
     ]
    }
   ],
   "source": [
    "output = {}\n",
    "for health in yaml_dict['IPGeocode']['Diag']:\n",
    "    output[health] = check(health)\n",
    "print(output)"
   ]
  },
  {
   "cell_type": "code",
   "execution_count": 73,
   "metadata": {},
   "outputs": [
    {
     "data": {
      "text/plain": [
       "dict"
      ]
     },
     "execution_count": 73,
     "metadata": {},
     "output_type": "execute_result"
    }
   ],
   "source": [
    "type(output)"
   ]
  },
  {
   "cell_type": "markdown",
   "metadata": {},
   "source": [
    "### dump() is used for loading a python object to yaml object/yaml file"
   ]
  },
  {
   "cell_type": "code",
   "execution_count": 78,
   "metadata": {},
   "outputs": [
    {
     "data": {
      "text/plain": [
       "'https://ipgeocode.api.intuit.com/health/full: Health Check OK\\nhttps://ipgeocode.api.intuit.com/ipgeocode/rest/diag/ping/deep: {status: Alive and\\n    well, version: 1.1.7.135}\\n'"
      ]
     },
     "execution_count": 78,
     "metadata": {},
     "output_type": "execute_result"
    }
   ],
   "source": [
    "yaml.dump(output)"
   ]
  },
  {
   "cell_type": "code",
   "execution_count": 79,
   "metadata": {},
   "outputs": [],
   "source": [
    "with open(\"yaml_dump.yaml\",\"w\") as write_file:\n",
    "    yaml.dump(output, write_file)"
   ]
  },
  {
   "cell_type": "code",
   "execution_count": 80,
   "metadata": {},
   "outputs": [
    {
     "name": "stdout",
     "output_type": "stream",
     "text": [
      "https://ipgeocode.api.intuit.com/health/full: Health Check OK\r\n",
      "https://ipgeocode.api.intuit.com/ipgeocode/rest/diag/ping/deep: {status: Alive and\r\n",
      "    well, version: 1.1.7.135}\r\n"
     ]
    }
   ],
   "source": [
    "cat yaml_dump.yaml"
   ]
  },
  {
   "cell_type": "code",
   "execution_count": null,
   "metadata": {},
   "outputs": [],
   "source": []
  }
 ],
 "metadata": {
  "kernelspec": {
   "display_name": "Python 3",
   "language": "python",
   "name": "python3"
  },
  "language_info": {
   "codemirror_mode": {
    "name": "ipython",
    "version": 3
   },
   "file_extension": ".py",
   "mimetype": "text/x-python",
   "name": "python",
   "nbconvert_exporter": "python",
   "pygments_lexer": "ipython3",
   "version": "3.6.5"
  }
 },
 "nbformat": 4,
 "nbformat_minor": 2
}
