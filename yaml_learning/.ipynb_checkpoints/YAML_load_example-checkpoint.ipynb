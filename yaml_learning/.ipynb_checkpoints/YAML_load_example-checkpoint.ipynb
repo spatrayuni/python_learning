{
 "cells": [
  {
   "cell_type": "code",
   "execution_count": 37,
   "metadata": {},
   "outputs": [],
   "source": [
    "import yaml\n",
    "import json\n",
    "import requests"
   ]
  },
  {
   "cell_type": "code",
   "execution_count": 2,
   "metadata": {},
   "outputs": [],
   "source": [
    "yaml_dict = yaml.load(open(\"health_queries.yaml\"))"
   ]
  },
  {
   "cell_type": "code",
   "execution_count": 3,
   "metadata": {},
   "outputs": [
    {
     "data": {
      "text/plain": [
       "['https://ipgeocode.api.intuit.com/ipgeocode/rest/diag/ping/deep',\n",
       " 'https://ipgeocode.api.intuit.com/health/full']"
      ]
     },
     "execution_count": 3,
     "metadata": {},
     "output_type": "execute_result"
    }
   ],
   "source": [
    "yaml_dict['IPGeocode']['Diag']"
   ]
  },
  {
   "cell_type": "code",
   "execution_count": 42,
   "metadata": {},
   "outputs": [],
   "source": [
    "def check(url):\n",
    "    output = {}\n",
    "    response = requests.get(url)\n",
    "    try:\n",
    "        output[url] = json.loads(response.text)\n",
    "    except:\n",
    "        output[url] = response.text\n",
    "    print(output)\n",
    "    return output"
   ]
  },
  {
   "cell_type": "code",
   "execution_count": 43,
   "metadata": {},
   "outputs": [
    {
     "name": "stdout",
     "output_type": "stream",
     "text": [
      "https://ipgeocode.api.intuit.com/ipgeocode/rest/diag/ping/deep\n",
      "{'https://ipgeocode.api.intuit.com/ipgeocode/rest/diag/ping/deep': {'version': '1.1.7.135', 'status': 'Alive and well'}}\n",
      "https://ipgeocode.api.intuit.com/health/full\n",
      "{'https://ipgeocode.api.intuit.com/health/full': 'Health Check OK'}\n"
     ]
    }
   ],
   "source": [
    "output = {}\n",
    "for health in yaml_dict['IPGeocode']['Diag']:\n",
    "    print(health)\n",
    "    output = check(health)\n",
    "\n",
    "print(output)"
   ]
  },
  {
   "cell_type": "code",
   "execution_count": 56,
   "metadata": {},
   "outputs": [
    {
     "data": {
      "text/plain": [
       "list"
      ]
     },
     "execution_count": 56,
     "metadata": {},
     "output_type": "execute_result"
    }
   ],
   "source": [
    "type(x)"
   ]
  },
  {
   "cell_type": "code",
   "execution_count": 57,
   "metadata": {},
   "outputs": [
    {
     "data": {
      "text/plain": [
       "['https://ipgeocode.api.intuit.com/ipgeocode/rest/diag/ping/deep',\n",
       " 'https://ipgeocode.api.intuit.com/health/full']"
      ]
     },
     "execution_count": 57,
     "metadata": {},
     "output_type": "execute_result"
    }
   ],
   "source": [
    "x"
   ]
  },
  {
   "cell_type": "code",
   "execution_count": 34,
   "metadata": {},
   "outputs": [],
   "source": [
    "with open(\"yaml_dump.yaml\",\"w\") as write_file:\n",
    "    yaml.dump(x, write_file)"
   ]
  },
  {
   "cell_type": "code",
   "execution_count": 35,
   "metadata": {},
   "outputs": [
    {
     "name": "stdout",
     "output_type": "stream",
     "text": [
      "!!python/object/apply:builtins.filter\r\n",
      "- !!python/name:__main__.check ''\r\n",
      "- !!python/object/apply:builtins.iter\r\n",
      "  - []\r\n"
     ]
    }
   ],
   "source": [
    "cat yaml_dump.yaml"
   ]
  },
  {
   "cell_type": "code",
   "execution_count": null,
   "metadata": {},
   "outputs": [],
   "source": []
  }
 ],
 "metadata": {
  "kernelspec": {
   "display_name": "Python 3",
   "language": "python",
   "name": "python3"
  },
  "language_info": {
   "codemirror_mode": {
    "name": "ipython",
    "version": 3
   },
   "file_extension": ".py",
   "mimetype": "text/x-python",
   "name": "python",
   "nbconvert_exporter": "python",
   "pygments_lexer": "ipython3",
   "version": "3.6.5"
  }
 },
 "nbformat": 4,
 "nbformat_minor": 2
}
